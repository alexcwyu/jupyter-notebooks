{
 "cells": [
  {
   "cell_type": "markdown",
   "metadata": {},
   "source": [
    "### Packages and Imports\n",
    "- Packages nest just like inner classes\n",
    "- Package paths are not absolute\n",
    "- Package statement without braces at the top of the file extend to the entire file\n",
    "- Package object can hold functions and variables\n",
    "- no eforced relationship between directory of source file and package.\n",
    "- Package can be defined in multiple files, one file can have multiple packages\n",
    "- Import statements can import packages, classes and objects\n",
    "- Import statements can be anywhere\n",
    "- Import statements can rename / hide members\n",
    "- `java.lang`, `scala` and `Predef` are always imported"
   ]
  },
  {
   "cell_type": "code",
   "execution_count": 1,
   "metadata": {
    "collapsed": false
   },
   "outputs": [
    {
     "ename": "",
     "evalue": "",
     "output_type": "error",
     "traceback": [
      "SyntaxError: found \"package x.y.z{\\nclass\", expected TopPkgSeq | Import | Prelude ~ BlockDef | Expr | End at index 0",
      "package x.y.z{",
      "^"
     ]
    }
   ],
   "source": [
    "package x.y{\n",
    "    package z{\n",
    "        class XXX (val name: String)\n",
    "    }\n",
    "}\n",
    "        \n",
    "\n",
    "\n",
    "// x.y.z.XXX"
   ]
  },
  {
   "cell_type": "markdown",
   "metadata": {},
   "source": [
    "use `root` to resolve package conflict\n",
    "\n",
    "val subordinates = new _root_.scala.collection.mutable.ArrayBuffer[Employee]"
   ]
  },
  {
   "cell_type": "markdown",
   "metadata": {},
   "source": [
    "Package Object"
   ]
  },
  {
   "cell_type": "code",
   "execution_count": 1,
   "metadata": {
    "collapsed": false
   },
   "outputs": [
    {
     "ename": "",
     "evalue": "",
     "output_type": "error",
     "traceback": [
      "SyntaxError: found \"package com.horstman\", expected TopPkgSeq | Import | Prelude ~ BlockDef | Expr | End at index 0",
      "package com.horstman",
      "^"
     ]
    }
   ],
   "source": [
    "package com.horstmann.impatient{\n",
    "    package object people {\n",
    "\n",
    "  val defaultName = \"John Q. Public\"\n",
    "\n",
    "}\n",
    "}\n",
    "\n",
    "package people {\n",
    "\n",
    "  class Person {\n",
    "\n",
    "    var name = defaultName // A constant from the package\n",
    "\n",
    "  }\n",
    "\n",
    "  ...\n",
    "\n",
    "}\n",
    "\n",
    "class Teacher{\n",
    "    var peopleName = com.horstmann.impatient.people.defaultName // need scope to get package Object\n",
    "}"
   ]
  },
  {
   "cell_type": "code",
   "execution_count": null,
   "metadata": {
    "collapsed": true
   },
   "outputs": [],
   "source": [
    "import java.util.{HashMap => _, _} // hide hashmap, import the rest\n",
    "import java.util.{HashSet => JavaHashSet} // import and rename\n",
    "import java.awt.{Color, Font} // import 2 class\n"
   ]
  }
 ],
 "metadata": {
  "kernelspec": {
   "display_name": "Scala (Develop)",
   "language": "scala",
   "name": "scala-develop"
  },
  "language_info": {
   "codemirror_mode": "text/x-scala",
   "file_extension": ".scala",
   "mimetype": "text/x-scala",
   "name": "scala211",
   "nbconvert_exporter": "script",
   "pygments_lexer": "scala",
   "version": "2.11.8"
  }
 },
 "nbformat": 4,
 "nbformat_minor": 1
}
