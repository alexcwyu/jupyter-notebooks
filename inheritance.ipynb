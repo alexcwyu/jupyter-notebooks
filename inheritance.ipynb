{
 "cells": [
  {
   "cell_type": "markdown",
   "metadata": {},
   "source": [
    "### inheriance\n",
    "- must use `override` when you override a method\n",
    "- fields can be overridden as well\n",
    "- `isInstanceOf` return false if object is not the tested class, as same `instanceOf` in java\n",
    "- `asInstanceOf` cast the object, and will throw exception is object is not the tested class, same as `(Clazz) object` in java\n",
    "- `obj.getClass` == `classOf[Clazz]`, same as `Clazz.class` in java\n",
    "- protected member in scala are NOT visible throughtout the package (which is unlike java), to use this, you need protected[package] in scala\n",
    "- Auxiliary constructurs of subclass can never invole a superclass constructor directly, only its primary constructor can call superclass constructor\n",
    "- Scala class can extends Java class\n",
    "- can override a method with field\n",
    "\n",
    "\n",
    "### Overide\n",
    "- def can only override another def\n",
    "- val can only override another val or parameterless def\n",
    "- var can only override an abstract var\n",
    "\n",
    "\n",
    "### Abstract Class\n",
    "- don't need to use `abstract`keyword for abstract method and subclass don't need to use `override` keyword\n",
    "- can have abstract field, which define without initial value\n",
    "\n",
    "\n",
    "### Anonymouse Subclasses\n",
    "- declare with a block with definitions / overrides\n",
    "\n",
    "\n",
    "### Class hierarchy\n",
    "- `Any` \n",
    "    - defined `isInstanceOf`, `asInstanceOf`, `equals`, `hashCode`\n",
    "- `AnyRef`\n",
    "    - no added method, for value types\n",
    "- `AnyVal`\n",
    "    - added monitor methods like `wait`, `notify/notifyAll`, provide a `synchronized` method with a function parameter\n",
    "- All Scala classs implement marker interface `ScalaObject` which has no method\n",
    "- `Nothing` / `Null` type\n",
    "    - `Null` is a type, the sole instance is `null`, it can be assigned to any reference, but not to value type\n",
    "    - `Nothing` type has no instance. it is useful for generic constructs, empty list Nil has type List[Nothing]. `Nothing` is different from `void` in Java / C++. `void` is represented by `Unit` type in scala, which sole value of `()`\n",
    "- `???`\n",
    "    - it used in return type `Nothing`, never return but instead throws a `NotImplementedError` when invoked\n",
    "    \n",
    "    \n",
    "### Equals\n",
    "- make sure `equals` method is defined with parameter type `Any`\n",
    "- don't supply an `==` method, you cannot override the `==` method defined in `AnyRef`\n",
    "- when define `equals`, please define `hashCode` as well\n",
    "    - `final override def hashCode = (description, price).##`\n",
    "    - the `##` is a null-safe version of the hashCode method that yields 0 for null instead of throwing an exception\n",
    "    \n",
    "### Value Classes\n",
    "- has a single field\n",
    "- extends AnyVal\n",
    "- primary constructor has exactly one val parameter and no body\n",
    "- no other field and constructor\n",
    "- the equals and hashCode methods will be provided automatically\n"
   ]
  },
  {
   "cell_type": "code",
   "execution_count": 13,
   "metadata": {
    "collapsed": false
   },
   "outputs": [
    {
     "data": {
      "text/plain": [
       "defined \u001b[32mclass\u001b[39m \u001b[36mBase\u001b[39m\n",
       "defined \u001b[32mclass\u001b[39m \u001b[36mDeriv\u001b[39m"
      ]
     },
     "execution_count": 13,
     "metadata": {},
     "output_type": "execute_result"
    }
   ],
   "source": [
    "class Base (val name:String){\n",
    "    \n",
    "  override def toString = s\"${getClass.getName}[name=$name]\"\n",
    "}\n",
    "\n",
    "class Deriv (name:String, var salary: Double) extends Base (name){\n",
    "        \n",
    "  override val toString = s\"${getClass.getName}[name=$name][salary=$salary]\"\n",
    "}"
   ]
  },
  {
   "cell_type": "code",
   "execution_count": 12,
   "metadata": {
    "collapsed": false
   },
   "outputs": [
    {
     "data": {
      "text/plain": [
       "\u001b[36mb\u001b[39m: \u001b[32mBase\u001b[39m = $sess.cmd10Wrapper$Helper$Base[name=base]\n",
       "\u001b[36md\u001b[39m: \u001b[32mDeriv\u001b[39m = $sess.cmd10Wrapper$Helper$Deriv[name=deri][salary=100.0]"
      ]
     },
     "execution_count": 12,
     "metadata": {},
     "output_type": "execute_result"
    }
   ],
   "source": [
    "val b = new Base(\"base\")\n",
    "val d = new Deriv(\"deri\", 100)"
   ]
  },
  {
   "cell_type": "code",
   "execution_count": 7,
   "metadata": {
    "collapsed": false
   },
   "outputs": [
    {
     "data": {
      "text/plain": [
       "\u001b[36mres6_0\u001b[39m: \u001b[32mBoolean\u001b[39m = \u001b[32mtrue\u001b[39m\n",
       "\u001b[36mres6_1\u001b[39m: \u001b[32mBoolean\u001b[39m = \u001b[32mfalse\u001b[39m\n",
       "\u001b[36mres6_2\u001b[39m: \u001b[32mBoolean\u001b[39m = \u001b[32mtrue\u001b[39m\n",
       "\u001b[36mres6_3\u001b[39m: \u001b[32mBoolean\u001b[39m = \u001b[32mtrue\u001b[39m\n",
       "\u001b[36mres6_4\u001b[39m: \u001b[32mBoolean\u001b[39m = \u001b[32mfalse\u001b[39m\n",
       "\u001b[36mres6_5\u001b[39m: \u001b[32mBoolean\u001b[39m = \u001b[32mfalse\u001b[39m"
      ]
     },
     "execution_count": 7,
     "metadata": {},
     "output_type": "execute_result"
    }
   ],
   "source": [
    "b.isInstanceOf[Base]\n",
    "b.isInstanceOf[Deriv]\n",
    "d.isInstanceOf[Base]\n",
    "d.isInstanceOf[Deriv]\n",
    "null.isInstanceOf[Base]\n",
    "null.isInstanceOf[Deriv]"
   ]
  },
  {
   "cell_type": "code",
   "execution_count": 8,
   "metadata": {
    "collapsed": false
   },
   "outputs": [
    {
     "ename": "",
     "evalue": "",
     "output_type": "error",
     "traceback": [
      "\u001b[31mjava.lang.ClassCastException: $sess.cmd2Wrapper$Helper$Base cannot be cast to $sess.cmd2Wrapper$Helper$Deriv\u001b[39m",
      "  $sess.cmd7Wrapper$Helper.<init>(\u001b[32mcmd7.sc\u001b[39m:\u001b[32m2\u001b[39m)",
      "  $sess.cmd7Wrapper.<init>(\u001b[32mcmd7.sc\u001b[39m:\u001b[32m132\u001b[39m)",
      "  $sess.cmd7$.<init>(\u001b[32mcmd7.sc\u001b[39m:\u001b[32m86\u001b[39m)",
      "  $sess.cmd7$.<clinit>(\u001b[32mcmd7.sc\u001b[39m:\u001b[32m-1\u001b[39m)"
     ]
    }
   ],
   "source": [
    "b.asInstanceOf[Base]\n",
    "b.asInstanceOf[Deriv]"
   ]
  },
  {
   "cell_type": "code",
   "execution_count": 9,
   "metadata": {
    "collapsed": false
   },
   "outputs": [
    {
     "data": {
      "text/plain": [
       "\u001b[36mres8_0\u001b[39m: \u001b[32mBase\u001b[39m = $sess.cmd2Wrapper$Helper$Deriv[name=test]\n",
       "\u001b[36mres8_1\u001b[39m: \u001b[32mDeriv\u001b[39m = $sess.cmd2Wrapper$Helper$Deriv[name=test]"
      ]
     },
     "execution_count": 9,
     "metadata": {},
     "output_type": "execute_result"
    }
   ],
   "source": [
    "d.asInstanceOf[Base]\n",
    "d.asInstanceOf[Deriv]"
   ]
  },
  {
   "cell_type": "code",
   "execution_count": 10,
   "metadata": {
    "collapsed": false
   },
   "outputs": [
    {
     "data": {
      "text/plain": [
       "\u001b[36mres9_0\u001b[39m: \u001b[32mClass\u001b[39m[\u001b[32m?0\u001b[39m] = class $sess.cmd2Wrapper$Helper$Deriv\n",
       "\u001b[36mres9_1\u001b[39m: \u001b[32mClass\u001b[39m[\u001b[32mDeriv\u001b[39m] = class $sess.cmd2Wrapper$Helper$Deriv"
      ]
     },
     "execution_count": 10,
     "metadata": {},
     "output_type": "execute_result"
    }
   ],
   "source": [
    "d.getClass\n",
    "classOf[Deriv]"
   ]
  },
  {
   "cell_type": "markdown",
   "metadata": {},
   "source": [
    "Abstract Class"
   ]
  },
  {
   "cell_type": "code",
   "execution_count": 15,
   "metadata": {
    "collapsed": false
   },
   "outputs": [
    {
     "data": {
      "text/plain": [
       "defined \u001b[32mclass\u001b[39m \u001b[36mPerson\u001b[39m\n",
       "defined \u001b[32mclass\u001b[39m \u001b[36mEmployee\u001b[39m"
      ]
     },
     "execution_count": 15,
     "metadata": {},
     "output_type": "execute_result"
    }
   ],
   "source": [
    "abstract class Person {\n",
    "\n",
    "  val id: Int\n",
    "\n",
    "    // No initializer—this is an abstract field with an abstract getter method\n",
    "\n",
    "  var name: String\n",
    "\n",
    "    // Another abstract field, with abstract getter and setter methods\n",
    "\n",
    "}\n",
    "\n",
    "class Employee(val id: Int) extends Person { // Subclass has concrete id property\n",
    "\n",
    "  var name = \"\" // and concrete name property\n",
    "\n",
    "}"
   ]
  },
  {
   "cell_type": "markdown",
   "metadata": {},
   "source": [
    "Early Adoption Syntax"
   ]
  },
  {
   "cell_type": "code",
   "execution_count": 17,
   "metadata": {
    "collapsed": false
   },
   "outputs": [
    {
     "name": "stdout",
     "output_type": "stream",
     "text": [
      "0\n"
     ]
    },
    {
     "data": {
      "text/plain": [
       "defined \u001b[32mclass\u001b[39m \u001b[36mCreature\u001b[39m\n",
       "defined \u001b[32mclass\u001b[39m \u001b[36mAnt\u001b[39m\n",
       "\u001b[36ma\u001b[39m: \u001b[32mwrapper\u001b[39m.\u001b[32mwrapper\u001b[39m.\u001b[32mAnt\u001b[39m = $sess.cmd16Wrapper$Helper$Ant@455b4ac1"
      ]
     },
     "execution_count": 17,
     "metadata": {},
     "output_type": "execute_result"
    }
   ],
   "source": [
    "class Creature {\n",
    "\n",
    "  val range: Int = 10\n",
    "\n",
    "  val env: Array[Int] = new Array[Int](range)\n",
    "\n",
    "}\n",
    "\n",
    "class Ant extends Creature {\n",
    "\n",
    "  override val range = 2\n",
    "\n",
    "}\n",
    "\n",
    "val a = new Ant()\n",
    "println(a.env.length)"
   ]
  },
  {
   "cell_type": "code",
   "execution_count": 18,
   "metadata": {
    "collapsed": false
   },
   "outputs": [
    {
     "name": "stdout",
     "output_type": "stream",
     "text": [
      "2\n"
     ]
    },
    {
     "data": {
      "text/plain": [
       "defined \u001b[32mclass\u001b[39m \u001b[36mAnt2\u001b[39m\n",
       "\u001b[36ma\u001b[39m: \u001b[32mAnt2\u001b[39m = $sess.cmd17Wrapper$Helper$Ant2@77083407"
      ]
     },
     "execution_count": 18,
     "metadata": {},
     "output_type": "execute_result"
    }
   ],
   "source": [
    "// to fix the issue\n",
    "class Ant2 extends { override val range = 2 } with Creature\n",
    "\n",
    "\n",
    "val a = new Ant2()\n",
    "println(a.env.length)"
   ]
  },
  {
   "cell_type": "code",
   "execution_count": 18,
   "metadata": {
    "collapsed": false
   },
   "outputs": [
    {
     "name": "stderr",
     "output_type": "stream",
     "text": [
      "cmd18.sc:1: value class may not be a member of another class\n",
      "class MilTime(val time: Int) extends AnyVal {\n",
      "      ^"
     ]
    },
    {
     "ename": "",
     "evalue": "",
     "output_type": "error",
     "traceback": [
      "Compilation Failed"
     ]
    }
   ],
   "source": [
    "// value class\n",
    "class MilTime(val time: Int) extends AnyVal {\n",
    "\n",
    "  def minutes = time % 100\n",
    "\n",
    "  def hours = time / 100\n",
    "\n",
    "  override def toString = f\"$time\"\n",
    "\n",
    "}"
   ]
  },
  {
   "cell_type": "code",
   "execution_count": null,
   "metadata": {
    "collapsed": true
   },
   "outputs": [],
   "source": []
  }
 ],
 "metadata": {
  "kernelspec": {
   "display_name": "Scala (Develop)",
   "language": "scala",
   "name": "scala-develop"
  },
  "language_info": {
   "codemirror_mode": "text/x-scala",
   "file_extension": ".scala",
   "mimetype": "text/x-scala",
   "name": "scala211",
   "nbconvert_exporter": "script",
   "pygments_lexer": "scala",
   "version": "2.11.8"
  }
 },
 "nbformat": 4,
 "nbformat_minor": 1
}
