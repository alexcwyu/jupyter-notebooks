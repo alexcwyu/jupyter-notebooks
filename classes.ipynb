{
 "cells": [
  {
   "cell_type": "markdown",
   "metadata": {},
   "source": [
    "class\n",
    "1. field in class auto come with getter and setter\n",
    "2. can replace a field with a custom getter/setter without changing the client of a class—that is the “uniform access principle.”\n",
    "    - if field is private, the getter and setter are private\n",
    "    - if field is val, only a getter is generated\n",
    "    - if filed is var, both getter & setter are generated\n",
    "    - if you don't want any getter / setter, declare the field as private[this]\n",
    "3. use `@BeanProperty` annotation to generate JavaBeans getXxx/ setXxx methods\n",
    "4. Every class has a primary constructor that is “interwoven” with the class definition. Its parameters turn into the fields of the class. The primary constructor executes all statements in the body of the class.\n",
    "5. Auxiliary constructors are optional. They are called this.\n",
    "\n"
   ]
  },
  {
   "cell_type": "code",
   "execution_count": 1,
   "metadata": {
    "collapsed": false
   },
   "outputs": [
    {
     "data": {
      "text/plain": [
       "defined \u001b[32mclass\u001b[39m \u001b[36mCounter\u001b[39m"
      ]
     },
     "execution_count": 1,
     "metadata": {},
     "output_type": "execute_result"
    }
   ],
   "source": [
    "class Counter {\n",
    "    private var value = 0 //must initialize the field\n",
    "    def increment(){ value += 1}\n",
    "    def current = value\n",
    "}"
   ]
  },
  {
   "cell_type": "code",
   "execution_count": 2,
   "metadata": {
    "collapsed": false
   },
   "outputs": [
    {
     "data": {
      "text/plain": [
       "\u001b[36mc\u001b[39m: \u001b[32mCounter\u001b[39m = $sess.cmd0Wrapper$Helper$Counter@348a8bb7"
      ]
     },
     "execution_count": 2,
     "metadata": {},
     "output_type": "execute_result"
    }
   ],
   "source": [
    "val c = new Counter()"
   ]
  },
  {
   "cell_type": "code",
   "execution_count": 3,
   "metadata": {
    "collapsed": false
   },
   "outputs": [
    {
     "name": "stdout",
     "output_type": "stream",
     "text": [
      "0\n",
      "1\n"
     ]
    }
   ],
   "source": [
    "println(c.current)\n",
    "c.increment()\n",
    "println(c.current)"
   ]
  },
  {
   "cell_type": "markdown",
   "metadata": {},
   "source": [
    "object private field\n",
    "- class private field (`private`) can still be accessed by different object of same class, private getter / setter will be generated\n",
    "- object private field (`private[this]`) can only be accessed by same object, and not getter / setter will be generated\n",
    "- scala allow you to grant access to specific classes (`private[ClassName]`)"
   ]
  },
  {
   "cell_type": "markdown",
   "metadata": {},
   "source": [
    "`@BeanProperty` generates four methods:\n",
    "\n",
    "1. name: String\n",
    "\n",
    "2. name_=(newValue: String): Unit\n",
    "\n",
    "3. getName(): String\n",
    "\n",
    "4. setName(newValue: String): Unit"
   ]
  },
  {
   "cell_type": "code",
   "execution_count": 5,
   "metadata": {
    "collapsed": false
   },
   "outputs": [
    {
     "data": {
      "text/plain": [
       "\u001b[32mimport \u001b[39m\u001b[36mscala.beans.BeanProperty\n",
       "\n",
       "\u001b[39m\n",
       "defined \u001b[32mclass\u001b[39m \u001b[36mPerson\u001b[39m"
      ]
     },
     "execution_count": 5,
     "metadata": {},
     "output_type": "execute_result"
    }
   ],
   "source": [
    "import scala.beans.BeanProperty\n",
    "\n",
    "class Person {\n",
    "@BeanProperty var name: String = _\n",
    "}"
   ]
  },
  {
   "cell_type": "markdown",
   "metadata": {},
   "source": [
    "AUXILIARY CONSTRUCTORS\n",
    "1. call `this`\n",
    "2. must start with a call to previously defined auxiliary constructor or call primary constructor"
   ]
  },
  {
   "cell_type": "markdown",
   "metadata": {
    "collapsed": true
   },
   "source": [
    "PRIMARY CONSTRUCTUR\n",
    "1. The parameters of the primary constructor are placed immediately after the class name. They then turn into fields that are initialized with the construction parameters\n",
    "2. The primary constructor executes all statements in the class definition (body).\n",
    "3. if parameter is:\n",
    "    - without val or var: an object-private field or no field if no method uses it\n",
    "    - private val / var: private fields, private getter / setter\n",
    "    - val / var: private fields, public getter / setter\n",
    "    - @BeanProperty val / var: private field, public Scala and JavaBean getters / setters"
   ]
  },
  {
   "cell_type": "code",
   "execution_count": 6,
   "metadata": {
    "collapsed": false
   },
   "outputs": [
    {
     "data": {
      "text/plain": [
       "defined \u001b[32mclass\u001b[39m \u001b[36mPerson\u001b[39m"
      ]
     },
     "execution_count": 6,
     "metadata": {},
     "output_type": "execute_result"
    }
   ],
   "source": [
    "// id is an object private field\n",
    "class Person(val name: String, var age: Int, id: String) {\n",
    "\n",
    "  def description = s\"$name is $age years old, id=$id\"\n",
    "\n",
    "}"
   ]
  },
  {
   "cell_type": "code",
   "execution_count": 7,
   "metadata": {
    "collapsed": false
   },
   "outputs": [
    {
     "data": {
      "text/plain": [
       "\u001b[36mp\u001b[39m: \u001b[32mPerson\u001b[39m = $sess.cmd5Wrapper$Helper$Person@6c5895af"
      ]
     },
     "execution_count": 7,
     "metadata": {},
     "output_type": "execute_result"
    }
   ],
   "source": [
    "val p = new Person(\"Alex\", 18, \"12313BV\")"
   ]
  },
  {
   "cell_type": "code",
   "execution_count": 8,
   "metadata": {
    "collapsed": false
   },
   "outputs": [
    {
     "name": "stdout",
     "output_type": "stream",
     "text": [
      "(Alex,18)"
     ]
    }
   ],
   "source": [
    "print(p.name, p.age)"
   ]
  },
  {
   "cell_type": "code",
   "execution_count": 9,
   "metadata": {
    "collapsed": false
   },
   "outputs": [
    {
     "data": {
      "text/plain": [
       "\u001b[36mres8\u001b[39m: \u001b[32mString\u001b[39m = \u001b[32m\"Alex is 18 years old, id=12313BV\"\u001b[39m"
      ]
     },
     "execution_count": 9,
     "metadata": {},
     "output_type": "execute_result"
    }
   ],
   "source": [
    "p.description"
   ]
  },
  {
   "cell_type": "code",
   "execution_count": 10,
   "metadata": {
    "collapsed": true
   },
   "outputs": [],
   "source": [
    "p.age = 19"
   ]
  },
  {
   "cell_type": "code",
   "execution_count": 10,
   "metadata": {
    "collapsed": false
   },
   "outputs": [
    {
     "name": "stderr",
     "output_type": "stream",
     "text": [
      "cmd10.sc:1: reassignment to val\n",
      "val res10 = p.name = \"B\"\n",
      "                   ^"
     ]
    },
    {
     "ename": "",
     "evalue": "",
     "output_type": "error",
     "traceback": [
      "Compilation Failed"
     ]
    }
   ],
   "source": [
    "p.name = \"B\""
   ]
  },
  {
   "cell_type": "code",
   "execution_count": 10,
   "metadata": {
    "collapsed": false
   },
   "outputs": [
    {
     "name": "stderr",
     "output_type": "stream",
     "text": [
      "cmd10.sc:1: value id is not a member of cmd10Wrapper.this.cmd6.cmd5.wrapper.Person\n",
      "val res10 = p.id\n",
      "              ^"
     ]
    },
    {
     "ename": "",
     "evalue": "",
     "output_type": "error",
     "traceback": [
      "Compilation Failed"
     ]
    }
   ],
   "source": [
    "p.id"
   ]
  },
  {
   "cell_type": "code",
   "execution_count": null,
   "metadata": {
    "collapsed": true
   },
   "outputs": [],
   "source": [
    "// private primary constructor\n",
    "class Person private(val id: Int) { }\n",
    "\n",
    "// class must use auxiliary constructor"
   ]
  },
  {
   "cell_type": "markdown",
   "metadata": {},
   "source": [
    "#### Nested Class\n",
    "\n",
    "innerClass of 1 instance are different from another instance.\n",
    "to solve this:\n",
    "1. move the Inner type to `companion object`.\n",
    "2. use a type projection `Network#Member`\n",
    "\n",
    "\n",
    "In a nested class, you can access the this reference of the enclosing class as `EnclosingClass.this`, like in Java.\n"
   ]
  },
  {
   "cell_type": "code",
   "execution_count": 37,
   "metadata": {
    "collapsed": false
   },
   "outputs": [
    {
     "data": {
      "text/plain": [
       "\u001b[32mimport \u001b[39m\u001b[36mscala.collection.mutable.ArrayBuffer\n",
       "\n",
       "\u001b[39m\n",
       "defined \u001b[32mclass\u001b[39m \u001b[36mClub\u001b[39m"
      ]
     },
     "execution_count": 37,
     "metadata": {},
     "output_type": "execute_result"
    }
   ],
   "source": [
    "import scala.collection.mutable.ArrayBuffer\n",
    "\n",
    "class Club(val name :String){ outer =>\n",
    "    class Member (val name :String){\n",
    "        \n",
    "        def description = s\"$name inside ${outer.name}\"\n",
    "    }\n",
    "    \n",
    "    val members = new ArrayBuffer[Club#Member]\n",
    "    \n",
    "    def join(name:String)={\n",
    "        val member = new Member(name)\n",
    "        members += member\n",
    "        \n",
    "        member\n",
    "    }\n",
    "    \n",
    "    def join(member: Club#Member)={\n",
    "        members += member\n",
    "        \n",
    "        member\n",
    "    }\n",
    "    \n",
    "    def list() = \n",
    "        for (member <- members) println(member.description)\n",
    "}"
   ]
  },
  {
   "cell_type": "code",
   "execution_count": 38,
   "metadata": {
    "collapsed": false
   },
   "outputs": [
    {
     "data": {
      "text/plain": [
       "\u001b[36mmusicClub\u001b[39m: \u001b[32mClub\u001b[39m = $sess.cmd36Wrapper$Helper$Club@173b5ef4\n",
       "\u001b[36mdanceSoc\u001b[39m: \u001b[32mClub\u001b[39m = $sess.cmd36Wrapper$Helper$Club@563e386c"
      ]
     },
     "execution_count": 38,
     "metadata": {},
     "output_type": "execute_result"
    }
   ],
   "source": [
    "// musicClub#Member and danceSoc#Member are different class\n",
    "\n",
    "var musicClub = new Club(\"music\")\n",
    "var danceSoc = new Club(\"dance\")\n",
    "\n"
   ]
  },
  {
   "cell_type": "code",
   "execution_count": 39,
   "metadata": {
    "collapsed": false
   },
   "outputs": [
    {
     "data": {
      "text/plain": [
       "\u001b[36mmm\u001b[39m: \u001b[32mClub\u001b[39m#\u001b[32mMember\u001b[39m = $sess.cmd36Wrapper$Helper$Club$Member@5684396b"
      ]
     },
     "execution_count": 39,
     "metadata": {},
     "output_type": "execute_result"
    }
   ],
   "source": [
    "val mm = musicClub.join(\"Alex\")"
   ]
  },
  {
   "cell_type": "code",
   "execution_count": 40,
   "metadata": {
    "collapsed": false
   },
   "outputs": [
    {
     "data": {
      "text/plain": [
       "\u001b[36mdm\u001b[39m: \u001b[32mClub\u001b[39m#\u001b[32mMember\u001b[39m = $sess.cmd36Wrapper$Helper$Club$Member@2b32f5f4"
      ]
     },
     "execution_count": 40,
     "metadata": {},
     "output_type": "execute_result"
    }
   ],
   "source": [
    "val dm = danceSoc.join(\"Alice\")"
   ]
  },
  {
   "cell_type": "code",
   "execution_count": 41,
   "metadata": {
    "collapsed": false
   },
   "outputs": [
    {
     "name": "stdout",
     "output_type": "stream",
     "text": [
      "Alice inside dance\n"
     ]
    }
   ],
   "source": [
    "danceSoc.list"
   ]
  },
  {
   "cell_type": "code",
   "execution_count": 43,
   "metadata": {
    "collapsed": false
   },
   "outputs": [
    {
     "data": {
      "text/plain": [
       "\u001b[36mres42\u001b[39m: \u001b[32mClub\u001b[39m#\u001b[32mMember\u001b[39m = $sess.cmd36Wrapper$Helper$Club$Member@5684396b"
      ]
     },
     "execution_count": 43,
     "metadata": {},
     "output_type": "execute_result"
    }
   ],
   "source": [
    "danceSoc.join(mm)"
   ]
  },
  {
   "cell_type": "code",
   "execution_count": 44,
   "metadata": {
    "collapsed": false
   },
   "outputs": [
    {
     "name": "stdout",
     "output_type": "stream",
     "text": [
      "Alice inside dance\n",
      "Alex inside music\n"
     ]
    }
   ],
   "source": [
    "danceSoc.list"
   ]
  },
  {
   "cell_type": "code",
   "execution_count": null,
   "metadata": {
    "collapsed": true
   },
   "outputs": [],
   "source": []
  }
 ],
 "metadata": {
  "kernelspec": {
   "display_name": "Scala (Develop)",
   "language": "scala",
   "name": "scala-develop"
  },
  "language_info": {
   "codemirror_mode": "text/x-scala",
   "file_extension": ".scala",
   "mimetype": "text/x-scala",
   "name": "scala211",
   "nbconvert_exporter": "script",
   "pygments_lexer": "scala",
   "version": "2.11.8"
  }
 },
 "nbformat": 4,
 "nbformat_minor": 1
}
