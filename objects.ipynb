{
 "cells": [
  {
   "cell_type": "markdown",
   "metadata": {},
   "source": [
    "#### Objects\n",
    "- for singletons and utility methods (scala has no static methods / fields, use object construct)\n",
    "- class can have companion object with the same name\n",
    "    - class and companion object can access each other's private feature\n",
    "    - must be in the same source file\n",
    "    - companion object's features are not in scope of the class. To access the object's features,the scope must be specified\n",
    "- objects can extend classes or traits\n",
    "- objects cannot have constructor with argument\n",
    "- object's `apply` method can be used to create new instance of companion class\n",
    "- to avoid `main` method, use object that extends `App` tratis\n",
    "- implement enumeration by extendsing `Enumeration` object\n",
    "- constructor is executed when object is first used"
   ]
  },
  {
   "cell_type": "code",
   "execution_count": 1,
   "metadata": {
    "collapsed": false
   },
   "outputs": [
    {
     "name": "stdout",
     "output_type": "stream",
     "text": [
      "1\n",
      "2\n",
      "3\n"
     ]
    },
    {
     "data": {
      "text/plain": [
       "defined \u001b[32mobject\u001b[39m \u001b[36mAccounts\u001b[39m"
      ]
     },
     "execution_count": 1,
     "metadata": {},
     "output_type": "execute_result"
    }
   ],
   "source": [
    "// Singleton\n",
    "object Accounts {\n",
    "\n",
    "  private var lastNumber = 0\n",
    "\n",
    "  def newUniqueNumber() = { lastNumber += 1; lastNumber }\n",
    "\n",
    "}\n",
    "\n",
    "println(Accounts.newUniqueNumber)\n",
    "println(Accounts.newUniqueNumber)\n",
    "println(Accounts.newUniqueNumber)"
   ]
  },
  {
   "cell_type": "code",
   "execution_count": 2,
   "metadata": {
    "collapsed": false
   },
   "outputs": [
    {
     "data": {
      "text/plain": [
       "defined \u001b[32mclass\u001b[39m \u001b[36mAccount\u001b[39m\n",
       "defined \u001b[32mobject\u001b[39m \u001b[36mAccount\u001b[39m"
      ]
     },
     "execution_count": 2,
     "metadata": {},
     "output_type": "execute_result"
    }
   ],
   "source": [
    "// Companion Object\n",
    "\n",
    "class Account{\n",
    "    val id = Account.newUniqueNumber()\n",
    "    private var balance = 0.0\n",
    "    \n",
    "    def deposit(amount : Double){ balance += amount}\n",
    "}\n",
    "\n",
    "object Account{\n",
    "    private var lastNumber = 0\n",
    "    private def newUniqueNumber() = { lastNumber += 1; lastNumber }\n",
    "}"
   ]
  },
  {
   "cell_type": "code",
   "execution_count": 3,
   "metadata": {
    "collapsed": false
   },
   "outputs": [
    {
     "data": {
      "text/plain": [
       "defined \u001b[32mclass\u001b[39m \u001b[36mUndoableAction\u001b[39m\n",
       "defined \u001b[32mobject\u001b[39m \u001b[36mDoNothingAction\u001b[39m"
      ]
     },
     "execution_count": 3,
     "metadata": {},
     "output_type": "execute_result"
    }
   ],
   "source": [
    "// extends abstract class\n",
    "abstract class UndoableAction(val name :String){\n",
    "    def undo() : Unit\n",
    "    def redo() : Unit\n",
    "}\n",
    "\n",
    "object DoNothingAction extends UndoableAction(\"Do Nothing\"){\n",
    "    override def undo(){}\n",
    "    override def redo(){}\n",
    "}"
   ]
  },
  {
   "cell_type": "code",
   "execution_count": 4,
   "metadata": {
    "collapsed": false
   },
   "outputs": [
    {
     "data": {
      "text/plain": [
       "defined \u001b[32mobject\u001b[39m \u001b[36mHello\u001b[39m"
      ]
     },
     "execution_count": 4,
     "metadata": {},
     "output_type": "execute_result"
    }
   ],
   "source": [
    "// Main Class (1)\n",
    "// need main method of type `Array[String] => Unit:`\n",
    "object Hello {\n",
    "\n",
    "  def main(args: Array[String]) {\n",
    "\n",
    "    println(\"Hello, World!\")\n",
    "\n",
    "  }\n",
    "\n",
    "}"
   ]
  },
  {
   "cell_type": "code",
   "execution_count": 6,
   "metadata": {
    "collapsed": false
   },
   "outputs": [
    {
     "data": {
      "text/plain": [
       "defined \u001b[32mobject\u001b[39m \u001b[36mHello\u001b[39m"
      ]
     },
     "execution_count": 6,
     "metadata": {},
     "output_type": "execute_result"
    }
   ],
   "source": [
    "// Main Class (2)\n",
    "// extends App\n",
    "// if you need command line args, get from `args` property\n",
    "\n",
    "object Hello extends App {\n",
    "\n",
    "    if (args.length > 0)\n",
    "\n",
    "    println(f\"Hello ${args(0)}\")\n",
    "\n",
    "  else\n",
    "\n",
    "    println(\"Hello, World!\")\n",
    "\n",
    "}"
   ]
  },
  {
   "cell_type": "code",
   "execution_count": 13,
   "metadata": {
    "collapsed": false
   },
   "outputs": [
    {
     "name": "stdout",
     "output_type": "stream",
     "text": [
      "0: Red\n",
      "1: Yellow\n",
      "2: Green\n",
      "Red\n",
      "Red\n",
      "Red\n"
     ]
    },
    {
     "data": {
      "text/plain": [
       "defined \u001b[32mobject\u001b[39m \u001b[36mTrafficLightColor\u001b[39m"
      ]
     },
     "execution_count": 13,
     "metadata": {},
     "output_type": "execute_result"
    }
   ],
   "source": [
    "// Enum\n",
    "object TrafficLightColor extends Enumeration {\n",
    "\n",
    "  val Red, Yellow, Green = Value\n",
    "\n",
    "}\n",
    "\n",
    "for (c <- TrafficLightColor.values) println(s\"${c.id}: $c\")\n",
    "\n",
    "println(TrafficLightColor.Red) // TrafficLightColor.Red is of type TrafficLightColor.Value!!!\n",
    "println(TrafficLightColor(0)) // Calls Enumeration.apply)\n",
    "println(TrafficLightColor.withName(\"Red\"))"
   ]
  },
  {
   "cell_type": "code",
   "execution_count": null,
   "metadata": {
    "collapsed": true
   },
   "outputs": [],
   "source": []
  },
  {
   "cell_type": "code",
   "execution_count": null,
   "metadata": {
    "collapsed": true
   },
   "outputs": [],
   "source": []
  }
 ],
 "metadata": {
  "kernelspec": {
   "display_name": "Scala (Develop)",
   "language": "scala",
   "name": "scala-develop"
  },
  "language_info": {
   "codemirror_mode": "text/x-scala",
   "file_extension": ".scala",
   "mimetype": "text/x-scala",
   "name": "scala211",
   "nbconvert_exporter": "script",
   "pygments_lexer": "scala",
   "version": "2.11.8"
  }
 },
 "nbformat": 4,
 "nbformat_minor": 1
}
