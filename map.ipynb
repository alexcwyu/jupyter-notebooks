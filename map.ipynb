{
 "cells": [
  {
   "cell_type": "markdown",
   "metadata": {},
   "source": [
    "    easy conversion between java and scala map\n",
    "\n",
    "    can choose between mutable and immutable map (Default)\n",
    "\n",
    "    can choose between HashMap (default) or TreeMap"
   ]
  },
  {
   "cell_type": "code",
   "execution_count": 1,
   "metadata": {
    "collapsed": false
   },
   "outputs": [
    {
     "data": {
      "text/plain": [
       "\u001b[36mscores\u001b[39m: \u001b[32mMap\u001b[39m[\u001b[32mString\u001b[39m, \u001b[32mInt\u001b[39m] = \u001b[33mMap\u001b[39m(\u001b[32m\"Alice\"\u001b[39m -> \u001b[32m3\u001b[39m, \u001b[32m\"Bob\"\u001b[39m -> \u001b[32m10\u001b[39m, \u001b[32m\"Cindy\"\u001b[39m -> \u001b[32m8\u001b[39m)"
      ]
     },
     "execution_count": 1,
     "metadata": {},
     "output_type": "execute_result"
    }
   ],
   "source": [
    "val scores = Map(\"Alice\" -> 3, \"Bob\" -> 10, \"Cindy\" -> 8)"
   ]
  },
  {
   "cell_type": "code",
   "execution_count": 2,
   "metadata": {
    "collapsed": false
   },
   "outputs": [
    {
     "data": {
      "text/plain": [
       "\u001b[36mscores\u001b[39m: \u001b[32mcollection\u001b[39m.\u001b[32mmutable\u001b[39m.\u001b[32mMap\u001b[39m[\u001b[32mString\u001b[39m, \u001b[32mInt\u001b[39m] = \u001b[33mMap\u001b[39m(\u001b[32m\"Bob\"\u001b[39m -> \u001b[32m3\u001b[39m, \u001b[32m\"Alice\"\u001b[39m -> \u001b[32m10\u001b[39m, \u001b[32m\"Cindy\"\u001b[39m -> \u001b[32m8\u001b[39m)"
      ]
     },
     "execution_count": 2,
     "metadata": {},
     "output_type": "execute_result"
    }
   ],
   "source": [
    "val scores = scala.collection.mutable.Map(\"Alice\" -> 10, \"Bob\" -> 3, \"Cindy\" -> 8)"
   ]
  },
  {
   "cell_type": "markdown",
   "metadata": {},
   "source": [
    "    can use either `\"Alice\" -> 10` or `(\"Alice\", 10)` to define a map\n",
    "   "
   ]
  },
  {
   "cell_type": "code",
   "execution_count": 3,
   "metadata": {
    "collapsed": false
   },
   "outputs": [
    {
     "data": {
      "text/plain": [
       "\u001b[36mscores\u001b[39m: \u001b[32mMap\u001b[39m[\u001b[32mString\u001b[39m, \u001b[32mInt\u001b[39m] = \u001b[33mMap\u001b[39m(\u001b[32m\"Alice\"\u001b[39m -> \u001b[32m10\u001b[39m, \u001b[32m\"Bob\"\u001b[39m -> \u001b[32m3\u001b[39m, \u001b[32m\"Cindy\"\u001b[39m -> \u001b[32m8\u001b[39m)"
      ]
     },
     "execution_count": 3,
     "metadata": {},
     "output_type": "execute_result"
    }
   ],
   "source": [
    "val scores = Map((\"Alice\", 10), (\"Bob\", 3), (\"Cindy\", 8))"
   ]
  },
  {
   "cell_type": "code",
   "execution_count": 4,
   "metadata": {
    "collapsed": false
   },
   "outputs": [
    {
     "name": "stdout",
     "output_type": "stream",
     "text": [
      "10\n"
     ]
    }
   ],
   "source": [
    "println(scores(\"Alice\"))"
   ]
  },
  {
   "cell_type": "code",
   "execution_count": 5,
   "metadata": {
    "collapsed": false
   },
   "outputs": [
    {
     "data": {
      "text/plain": [
       "\u001b[36mres4\u001b[39m: \u001b[32mInt\u001b[39m = \u001b[32m3\u001b[39m"
      ]
     },
     "execution_count": 5,
     "metadata": {},
     "output_type": "execute_result"
    }
   ],
   "source": [
    "scores.getOrElse(\"Bob\", 0)"
   ]
  },
  {
   "cell_type": "code",
   "execution_count": 6,
   "metadata": {
    "collapsed": false
   },
   "outputs": [
    {
     "data": {
      "text/plain": [
       "\u001b[36mres5\u001b[39m: \u001b[32mOption\u001b[39m[\u001b[32mInt\u001b[39m] = None"
      ]
     },
     "execution_count": 6,
     "metadata": {},
     "output_type": "execute_result"
    }
   ],
   "source": [
    "scores.get(\"NotExist\")"
   ]
  },
  {
   "cell_type": "code",
   "execution_count": 6,
   "metadata": {
    "collapsed": false
   },
   "outputs": [
    {
     "name": "stderr",
     "output_type": "stream",
     "text": [
      "cmd6.sc:1: not found: value source\n",
      "val res6 = source(\"NotExist\")\n",
      "           ^"
     ]
    },
    {
     "ename": "",
     "evalue": "",
     "output_type": "error",
     "traceback": [
      "Compilation Failed"
     ]
    }
   ],
   "source": [
    "source(\"NotExist\")"
   ]
  },
  {
   "cell_type": "code",
   "execution_count": 7,
   "metadata": {
    "collapsed": false
   },
   "outputs": [
    {
     "data": {
      "text/plain": [
       "\u001b[36mres6\u001b[39m: \u001b[32mOption\u001b[39m[\u001b[32mInt\u001b[39m] = \u001b[33mSome\u001b[39m(\u001b[32m10\u001b[39m)"
      ]
     },
     "execution_count": 7,
     "metadata": {},
     "output_type": "execute_result"
    }
   ],
   "source": [
    "scores.get(\"Alice\")"
   ]
  },
  {
   "cell_type": "code",
   "execution_count": 12,
   "metadata": {
    "collapsed": false
   },
   "outputs": [
    {
     "data": {
      "text/plain": [
       "\u001b[36mscores2\u001b[39m: \u001b[32mcollection\u001b[39m.\u001b[32mmutable\u001b[39m.\u001b[32mMap\u001b[39m[\u001b[32mString\u001b[39m, \u001b[32mInt\u001b[39m] = \u001b[33mMap\u001b[39m()"
      ]
     },
     "execution_count": 12,
     "metadata": {},
     "output_type": "execute_result"
    }
   ],
   "source": [
    "val scores2 = scores.withDefault(_.length)"
   ]
  },
  {
   "cell_type": "code",
   "execution_count": 13,
   "metadata": {
    "collapsed": false
   },
   "outputs": [
    {
     "data": {
      "text/plain": [
       "\u001b[36mzeldasScore2\u001b[39m: \u001b[32mOption\u001b[39m[\u001b[32mInt\u001b[39m] = None"
      ]
     },
     "execution_count": 13,
     "metadata": {},
     "output_type": "execute_result"
    }
   ],
   "source": [
    "val zeldasScore2 = scores2.get(\"Zelda\")"
   ]
  },
  {
   "cell_type": "raw",
   "metadata": {},
   "source": [
    "iterating maps"
   ]
  },
  {
   "cell_type": "code",
   "execution_count": 14,
   "metadata": {
    "collapsed": false
   },
   "outputs": [
    {
     "name": "stdout",
     "output_type": "stream",
     "text": [
      "(Alice,3)\n",
      "(Bob,10)\n",
      "(Cindy,8)\n"
     ]
    }
   ],
   "source": [
    "for ((k, v) <- Map(\"Alice\" -> 3, \"Bob\" -> 10, \"Cindy\" -> 8))\n",
    "println (k, v)"
   ]
  },
  {
   "cell_type": "code",
   "execution_count": 15,
   "metadata": {
    "collapsed": false
   },
   "outputs": [
    {
     "data": {
      "text/plain": [
       "\u001b[36mres14\u001b[39m: \u001b[32mSet\u001b[39m[\u001b[32mString\u001b[39m] = \u001b[33mSet\u001b[39m(\u001b[32m\"Alice\"\u001b[39m, \u001b[32m\"Bob\"\u001b[39m, \u001b[32m\"Cindy\"\u001b[39m)"
      ]
     },
     "execution_count": 15,
     "metadata": {},
     "output_type": "execute_result"
    }
   ],
   "source": [
    "Map(\"Alice\" -> 3, \"Bob\" -> 10, \"Cindy\" -> 8).keySet"
   ]
  },
  {
   "cell_type": "code",
   "execution_count": 16,
   "metadata": {
    "collapsed": false
   },
   "outputs": [
    {
     "data": {
      "text/plain": [
       "\u001b[36mres15\u001b[39m: \u001b[32mIterable\u001b[39m[\u001b[32mInt\u001b[39m] = \u001b[33mMapLike\u001b[39m(\u001b[32m3\u001b[39m, \u001b[32m10\u001b[39m, \u001b[32m8\u001b[39m)"
      ]
     },
     "execution_count": 16,
     "metadata": {},
     "output_type": "execute_result"
    }
   ],
   "source": [
    "Map(\"Alice\" -> 3, \"Bob\" -> 10, \"Cindy\" -> 8).values"
   ]
  },
  {
   "cell_type": "markdown",
   "metadata": {},
   "source": [
    "    conversion between java and scala map"
   ]
  },
  {
   "cell_type": "code",
   "execution_count": 18,
   "metadata": {
    "collapsed": false
   },
   "outputs": [
    {
     "data": {
      "text/plain": [
       "\u001b[32mimport \u001b[39m\u001b[36mscala.collection.JavaConversions.mapAsScalaMap\n",
       "\n",
       "\u001b[39m\n",
       "\u001b[36mscores\u001b[39m: \u001b[32mcollection\u001b[39m.\u001b[32mmutable\u001b[39m.\u001b[32mMap\u001b[39m[\u001b[32mString\u001b[39m, \u001b[32mInt\u001b[39m] = \u001b[33mMap\u001b[39m()"
      ]
     },
     "execution_count": 18,
     "metadata": {},
     "output_type": "execute_result"
    }
   ],
   "source": [
    "import scala.collection.JavaConversions.mapAsScalaMap\n",
    "\n",
    "val scores: scala.collection.mutable.Map[String, Int] = new java.util.TreeMap[String, Int]"
   ]
  },
  {
   "cell_type": "markdown",
   "metadata": {},
   "source": [
    "    conversion between java properties to scala map\n",
    "   "
   ]
  },
  {
   "cell_type": "code",
   "execution_count": 19,
   "metadata": {
    "collapsed": false
   },
   "outputs": [
    {
     "data": {
      "text/plain": [
       "\u001b[32mimport \u001b[39m\u001b[36mscala.collection.JavaConversions.propertiesAsScalaMap\n",
       "\n",
       "\u001b[39m\n",
       "\u001b[36mprops\u001b[39m: \u001b[32mcollection\u001b[39m.\u001b[32mMap\u001b[39m[\u001b[32mString\u001b[39m, \u001b[32mString\u001b[39m] = \u001b[33mMap\u001b[39m(\n",
       "  \u001b[32m\"java.vendor\"\u001b[39m -> \u001b[32m\"Oracle Corporation\"\u001b[39m,\n",
       "  \u001b[32m\"sun.java.launcher\"\u001b[39m -> \u001b[32m\"SUN_STANDARD\"\u001b[39m,\n",
       "  \u001b[32m\"sun.management.compiler\"\u001b[39m -> \u001b[32m\"HotSpot 64-Bit Tiered Compilers\"\u001b[39m,\n",
       "  \u001b[32m\"coursier.main.arg-9\"\u001b[39m -> \u001b[32m\"-I\"\u001b[39m,\n",
       "  \u001b[32m\"coursier.main.arg-8\"\u001b[39m -> \u001b[32m\"ammonite:org.jupyter-scala:ammonite-runtime_2.11.8:0.8.1\"\u001b[39m,\n",
       "  \u001b[32m\"coursier.main.arg-7\"\u001b[39m -> \u001b[32m\"-I\"\u001b[39m,\n",
       "  \u001b[32m\"coursier.main.arg-6\"\u001b[39m -> \u001b[32m\"ammonite\"\u001b[39m,\n",
       "  \u001b[32m\"coursier.main.arg-5\"\u001b[39m -> \u001b[32m\"-i\"\u001b[39m,\n",
       "  \u001b[32m\"os.name\"\u001b[39m -> \u001b[32m\"Linux\"\u001b[39m,\n",
       "  \u001b[32m\"coursier.main.arg-4\"\u001b[39m -> \u001b[32m\"sonatype:snapshots\"\u001b[39m,\n",
       "\u001b[33m...\u001b[39m"
      ]
     },
     "execution_count": 19,
     "metadata": {},
     "output_type": "execute_result"
    }
   ],
   "source": [
    "import scala.collection.JavaConversions.propertiesAsScalaMap\n",
    "\n",
    "val props: scala.collection.Map[String, String] = System.getProperties()"
   ]
  },
  {
   "cell_type": "markdown",
   "metadata": {},
   "source": [
    "    tuple\n",
    "    "
   ]
  },
  {
   "cell_type": "code",
   "execution_count": 22,
   "metadata": {
    "collapsed": false
   },
   "outputs": [
    {
     "data": {
      "text/plain": [
       "\u001b[36mt\u001b[39m: (\u001b[32mInt\u001b[39m, \u001b[32mInt\u001b[39m, \u001b[32mString\u001b[39m) = (\u001b[32m1\u001b[39m, \u001b[32m2\u001b[39m, \u001b[32m\"F\"\u001b[39m)"
      ]
     },
     "execution_count": 22,
     "metadata": {},
     "output_type": "execute_result"
    }
   ],
   "source": [
    "val t = (1,2,\"F\")"
   ]
  },
  {
   "cell_type": "code",
   "execution_count": 23,
   "metadata": {
    "collapsed": false
   },
   "outputs": [
    {
     "data": {
      "text/plain": [
       "\u001b[36mres22\u001b[39m: \u001b[32mInt\u001b[39m = \u001b[32m1\u001b[39m"
      ]
     },
     "execution_count": 23,
     "metadata": {},
     "output_type": "execute_result"
    }
   ],
   "source": [
    "t._1"
   ]
  },
  {
   "cell_type": "code",
   "execution_count": 24,
   "metadata": {
    "collapsed": false
   },
   "outputs": [
    {
     "data": {
      "text/plain": [
       "\u001b[36mres23\u001b[39m: (\u001b[32mString\u001b[39m, \u001b[32mString\u001b[39m) = (\u001b[32m\"NY\"\u001b[39m, \u001b[32m\"ew ork\"\u001b[39m)"
      ]
     },
     "execution_count": 24,
     "metadata": {},
     "output_type": "execute_result"
    }
   ],
   "source": [
    "\"New York\".partition(_.isUpper)"
   ]
  },
  {
   "cell_type": "markdown",
   "metadata": {},
   "source": [
    "    Zipping   "
   ]
  },
  {
   "cell_type": "code",
   "execution_count": 26,
   "metadata": {
    "collapsed": false
   },
   "outputs": [
    {
     "name": "stdout",
     "output_type": "stream",
     "text": [
      "<<---------->>"
     ]
    },
    {
     "data": {
      "text/plain": [
       "\u001b[36msymbols\u001b[39m: \u001b[32mArray\u001b[39m[\u001b[32mString\u001b[39m] = \u001b[33mArray\u001b[39m(\u001b[32m\"<\"\u001b[39m, \u001b[32m\"-\"\u001b[39m, \u001b[32m\">\"\u001b[39m)\n",
       "\u001b[36mcounts\u001b[39m: \u001b[32mArray\u001b[39m[\u001b[32mInt\u001b[39m] = \u001b[33mArray\u001b[39m(\u001b[32m2\u001b[39m, \u001b[32m10\u001b[39m, \u001b[32m2\u001b[39m)\n",
       "\u001b[36mpairs\u001b[39m: \u001b[32mArray\u001b[39m[(\u001b[32mString\u001b[39m, \u001b[32mInt\u001b[39m)] = \u001b[33mArray\u001b[39m((\u001b[32m\"<\"\u001b[39m, \u001b[32m2\u001b[39m), (\u001b[32m\"-\"\u001b[39m, \u001b[32m10\u001b[39m), (\u001b[32m\">\"\u001b[39m, \u001b[32m2\u001b[39m))"
      ]
     },
     "execution_count": 26,
     "metadata": {},
     "output_type": "execute_result"
    }
   ],
   "source": [
    "val symbols = Array(\"<\", \"-\", \">\")\n",
    "\n",
    "val counts = Array(2, 10, 2)\n",
    "\n",
    "val pairs = symbols.zip(counts)\n",
    "\n",
    "for ((s,n) <- pairs) print(s*n) "
   ]
  },
  {
   "cell_type": "code",
   "execution_count": null,
   "metadata": {
    "collapsed": true
   },
   "outputs": [],
   "source": []
  },
  {
   "cell_type": "code",
   "execution_count": null,
   "metadata": {
    "collapsed": true
   },
   "outputs": [],
   "source": []
  }
 ],
 "metadata": {
  "kernelspec": {
   "display_name": "Scala (Develop)",
   "language": "scala",
   "name": "scala-develop"
  },
  "language_info": {
   "codemirror_mode": "text/x-scala",
   "file_extension": ".scala",
   "mimetype": "text/x-scala",
   "name": "scala211",
   "nbconvert_exporter": "script",
   "pygments_lexer": "scala",
   "version": "2.11.8"
  }
 },
 "nbformat": 4,
 "nbformat_minor": 1
}
